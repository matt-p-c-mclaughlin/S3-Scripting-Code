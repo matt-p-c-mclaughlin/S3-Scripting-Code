{
 "cells": [
  {
   "cell_type": "markdown",
   "metadata": {},
   "source": [
    "# S3 Bucket Organizer\n",
    "#### This code is meant to organize the S3 bucket into folders by ASIN.\n",
    "#### Much of the code is following this guide: https://realpython.com/python-boto3-aws-s3/\n",
    "#### Other resources: https://boto3.amazonaws.com/v1/documentation/api/latest/index.html \n",
    "#### https://aws.amazon.com/sdk-for-python/"
   ]
  },
  {
   "cell_type": "code",
   "execution_count": 50,
   "metadata": {},
   "outputs": [],
   "source": [
    "import boto3\n",
    "import numpy as np\n",
    "from botocore.exceptions import ClientError\n",
    "import time"
   ]
  },
  {
   "cell_type": "code",
   "execution_count": 5,
   "metadata": {},
   "outputs": [],
   "source": [
    "s3 = boto3.resource('s3')"
   ]
  },
  {
   "cell_type": "code",
   "execution_count": 10,
   "metadata": {},
   "outputs": [],
   "source": [
    "BUCKET_NAME = \"bucknellrobotics\"\n",
    "IMG_BUCKET = s3.Bucket(name=BUCKET_NAME)"
   ]
  },
  {
   "cell_type": "markdown",
   "metadata": {},
   "source": [
    "#### This is using the high-level interface, not the client interface."
   ]
  },
  {
   "cell_type": "code",
   "execution_count": 8,
   "metadata": {},
   "outputs": [
    {
     "name": "stdout",
     "output_type": "stream",
     "text": [
      "s3.Bucket(name='bucknellrobotics')\n"
     ]
    }
   ],
   "source": [
    "# Print out bucket names\n",
    "for bucket in s3.buckets.all():\n",
    "    print(bucket.name)"
   ]
  },
  {
   "cell_type": "code",
   "execution_count": 17,
   "metadata": {},
   "outputs": [
    {
     "name": "stdout",
     "output_type": "stream",
     "text": [
      "10_09_2019/0008242682_645712f5-c155-4ef5-a3e8-089bd44c0381.JPG\n"
     ]
    }
   ],
   "source": [
    "#This should be the key to traversing the images. Next is how to sort into folders.\n",
    "for obj in IMG_BUCKET.objects.all():\n",
    "    print(obj.key)\n",
    "    break"
   ]
  },
  {
   "cell_type": "markdown",
   "metadata": {},
   "source": [
    "## Folders in S3"
   ]
  },
  {
   "cell_type": "markdown",
   "metadata": {},
   "source": [
    "#### If you want to translate a directory structure on a disk to Amazon S3, you need to use the file path as the object key for the file. For instance, if you want to obtain the path /bar/foo/baz.jpg, you need to store ‘baz.jpg’ with an object key of ‘bar/foo/baz.jpg’. https://www.ludofischer.com/blog/how-to-upload-directory-amazon-s3/\n",
    "#### In other words when assigning images to \"folders\" we will need to go through each image, parse for the ASIN, and say \n",
    "#### obj.key = \"10_09_2019/ASIN#/original_filename\"  (actual key assignment is more complicated)\n",
    "\n",
    "#### This also suggests that it is unnecesary to have a list of unique ASINs.\n",
    "\n",
    "#### This approach may work for the initial build but it'll mean somewhat more work for adding images to folders after the initial build.\n",
    "#### This may also MAJORLY mess up what we were considering for the CNNs. We were assuming we could access the bucket more efficiently by only loading select folders, but the website above seems to suggest that folders don't actually exist? Correction- they can only be created by hand in the Administration Console.\n",
    "#### Here is an approach for limiting the number of files we're viewing. IDK if it actually works, or even if it would be fast because we're still loading all objects before reducing the selection.\n",
    "#### for obj in IMG_BUCKET.objects.all()[IMG_BUCKET.objects.all().key == \"10_09_2019/ASIN/*\"]:"
   ]
  },
  {
   "cell_type": "code",
   "execution_count": null,
   "metadata": {},
   "outputs": [],
   "source": []
  }
 ],
 "metadata": {
  "kernelspec": {
   "display_name": "Python 3",
   "language": "python",
   "name": "python3"
  },
  "language_info": {
   "codemirror_mode": {
    "name": "ipython",
    "version": 3
   },
   "file_extension": ".py",
   "mimetype": "text/x-python",
   "name": "python",
   "nbconvert_exporter": "python",
   "pygments_lexer": "ipython3",
   "version": "3.7.6"
  }
 },
 "nbformat": 4,
 "nbformat_minor": 4
}
