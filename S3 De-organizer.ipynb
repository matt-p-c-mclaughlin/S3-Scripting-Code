{
 "cells": [
  {
   "cell_type": "code",
   "execution_count": 1,
   "metadata": {},
   "outputs": [],
   "source": [
    "import boto3\n",
    "from datetime import datetime"
   ]
  },
  {
   "cell_type": "code",
   "execution_count": 2,
   "metadata": {},
   "outputs": [],
   "source": [
    "s3 = boto3.resource('s3')"
   ]
  },
  {
   "cell_type": "code",
   "execution_count": 3,
   "metadata": {},
   "outputs": [],
   "source": [
    "BUCKET_NAME = \"bucknellrobotics\"\n",
    "IMG_BUCKET = s3.Bucket(name=BUCKET_NAME)"
   ]
  },
  {
   "cell_type": "code",
   "execution_count": 4,
   "metadata": {},
   "outputs": [],
   "source": [
    "def filename_parser(raw_key=None):\n",
    "    filename = raw_key.split(\"/\")[2] #This will get everything after \"10_09_2019/ASIN/\"\n",
    "    return filename"
   ]
  },
  {
   "cell_type": "code",
   "execution_count": 5,
   "metadata": {},
   "outputs": [],
   "source": [
    "def update_key(obj):\n",
    "    filename = filename_parser(obj.key)\n",
    "    new_key = \"10_09_2019/\" + filename\n",
    "    return new_key\n",
    "    #obj.put(Data=obj.data, Key=new_key)"
   ]
  },
  {
   "cell_type": "code",
   "execution_count": 6,
   "metadata": {},
   "outputs": [],
   "source": [
    "def clean_obj(obj):\n",
    "    # Approach 1\n",
    "    obj.delete()\n",
    "    \n",
    "    # Approach 2\n",
    "    #response = IMG_BUCKET.delete_objects( Delete={'Objects': [{'Key':obj.key},], 'Quiet':True},\n",
    "    "
   ]
  },
  {
   "cell_type": "code",
   "execution_count": 7,
   "metadata": {},
   "outputs": [],
   "source": [
    "def remove_from_folder(obj):\n",
    "    '''\n",
    "    This function will do all of the grunt work of 'moving' a file: \n",
    "    Make a new key, \n",
    "    copy the original object, change the copy's key, \n",
    "    and delete the original object\n",
    "    '''\n",
    "    old_key = obj.key\n",
    "    new_key = update_key(obj)\n",
    "    \n",
    "    #https://boto3.amazonaws.com/v1/documentation/api/latest/reference/services/s3.html#S3.Bucket.copy\n",
    "    copy_source = {'Bucket': BUCKET_NAME, 'Key': old_key}\n",
    "    IMG_BUCKET.copy(copy_source, new_key)\n",
    "    \n",
    "    #Delete the original\n",
    "    clean_obj(obj)\n",
    "    "
   ]
  },
  {
   "cell_type": "code",
   "execution_count": 20,
   "metadata": {},
   "outputs": [],
   "source": [
    "def main():\n",
    "    start_time = datetime.time(datetime.now())\n",
    "    i = 0\n",
    "    k = 0\n",
    "    for obj in IMG_BUCKET.objects.all():\n",
    "        temp = obj.key.split(\"/\")\n",
    "        \n",
    "        if (len(temp)>=3) and (temp[0] == \"10_09_2019\") and (len(temp[1]) == 10): \n",
    "        #There's a lot of other junk in the folder right now, I only want things in 10_09_2019 folder\n",
    "            remove_from_folder(obj)\n",
    "\n",
    "            i = (i + 1) % 1000\n",
    "            if i == 0:\n",
    "                k = k+1\n",
    "                print(str(datetime.time(datetime.now())) + \"   \" + str(k) + \"000 files fixed\")\n",
    "\n",
    "        \n",
    "    end_time = datetime.time(datetime.now())\n",
    "    print(\"\\n\\n\" + str(end_time) + \"  DONE\")"
   ]
  },
  {
   "cell_type": "code",
   "execution_count": 21,
   "metadata": {},
   "outputs": [
    {
     "name": "stdout",
     "output_type": "stream",
     "text": [
      "11:41:16.313605   1000 files fixed\n",
      "11:45:41.797676   2000 files fixed\n",
      "11:50:05.702549   3000 files fixed\n",
      "11:54:27.709906   4000 files fixed\n",
      "11:58:56.158105   5000 files fixed\n",
      "12:03:39.504553   6000 files fixed\n",
      "12:08:04.440584   7000 files fixed\n",
      "12:12:34.685362   8000 files fixed\n",
      "12:16:58.969771   9000 files fixed\n",
      "12:21:31.597886   10000 files fixed\n",
      "12:26:07.635746   11000 files fixed\n",
      "12:30:29.384870   12000 files fixed\n",
      "12:34:54.303597   13000 files fixed\n",
      "\n",
      "\n",
      "12:46:07.184495  DONE\n"
     ]
    }
   ],
   "source": [
    "main()"
   ]
  },
  {
   "cell_type": "markdown",
   "metadata": {},
   "source": [
    "#### References: https://stackoverflow.com/questions/40336918/how-to-write-a-file-or-data-to-an-s3-object-using-boto3 \n",
    "#### https://boto3.amazonaws.com/v1/documentation/api/latest/reference/services/s3.html#S3.Object.put\n",
    "\n",
    "#### I'm seeing 3 possiblilities for deleting objects. \n",
    "#### 1) https://stackoverflow.com/questions/3140779/how-to-delete-files-from-amazon-s3-bucket  -  The one that I'm using. Just obj.delete()\n",
    "#### 2) https://boto3.amazonaws.com/v1/documentation/api/latest/reference/services/s3.html#S3.Client.delete_object  -  Seems more specific but is client based, not resource\n",
    "#### 3) https://boto3.amazonaws.com/v1/documentation/api/latest/reference/services/s3.html#S3.Bucket.delete_objects  -  Can delete up to 1000 objects at a time, reduces overhead. Could be useful but its not how I'm doing this. Resource, not client.\n",
    "\n",
    "#### Looking into a copy method. https://boto3.amazonaws.com/v1/documentation/api/latest/reference/services/s3.html#S3.Bucket.copy\n",
    "\n"
   ]
  },
  {
   "cell_type": "code",
   "execution_count": null,
   "metadata": {},
   "outputs": [],
   "source": []
  }
 ],
 "metadata": {
  "kernelspec": {
   "display_name": "Python 3",
   "language": "python",
   "name": "python3"
  },
  "language_info": {
   "codemirror_mode": {
    "name": "ipython",
    "version": 3
   },
   "file_extension": ".py",
   "mimetype": "text/x-python",
   "name": "python",
   "nbconvert_exporter": "python",
   "pygments_lexer": "ipython3",
   "version": "3.7.6"
  }
 },
 "nbformat": 4,
 "nbformat_minor": 4
}
