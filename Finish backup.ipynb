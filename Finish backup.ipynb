{
 "cells": [
  {
   "cell_type": "code",
   "execution_count": 1,
   "metadata": {},
   "outputs": [],
   "source": [
    "import boto3\n",
    "from datetime import datetime"
   ]
  },
  {
   "cell_type": "code",
   "execution_count": 2,
   "metadata": {},
   "outputs": [],
   "source": [
    "s3 = boto3.resource('s3')\n",
    "ORIGINAL_B_NAME = \"bucknellrobotics\"\n",
    "IMG_BUCKET = s3.Bucket(name=ORIGINAL_B_NAME)\n",
    "\n",
    "BACKUP_B_NAME = \"bucknellrobotics-backup\"\n",
    "BKP_BUCKET = s3.Bucket(name=BACKUP_B_NAME)"
   ]
  },
  {
   "cell_type": "markdown",
   "metadata": {},
   "source": [
    "#### This shows that the copy works between buckets."
   ]
  },
  {
   "cell_type": "code",
   "execution_count": 8,
   "metadata": {},
   "outputs": [],
   "source": [
    "copy_source = {'Bucket': ORIGINAL_B_NAME, 'Key': \"a.txt\"} #Different from organizer script, we're not changing the key\n",
    "BKP_BUCKET.copy(copy_source, \"a.txt\")"
   ]
  },
  {
   "cell_type": "markdown",
   "metadata": {},
   "source": [
    "#### So why isn't it working below to copy over the rest of the images? I've tested it twice and the number of images in the backup doesn't change."
   ]
  },
  {
   "cell_type": "code",
   "execution_count": 11,
   "metadata": {},
   "outputs": [
    {
     "name": "stdout",
     "output_type": "stream",
     "text": [
      "10_09_2019/0008242682_645712f5-c155-4ef5-a3e8-089bd44c0381.JPG\n",
      "DONE\n"
     ]
    }
   ],
   "source": [
    "for obj in IMG_BUCKET.objects.all():\n",
    "    copy_source = {'Bucket': ORIGINAL_B_NAME, 'Key': obj.key} #Different from organizer script, we're not changing the key\n",
    "    print(obj.key)\n",
    "    BKP_BUCKET.copy(copy_source, \"10_09_2019/a.txt\")\n",
    "\n",
    "    break\n",
    "print(\"DONE\")"
   ]
  },
  {
   "cell_type": "code",
   "execution_count": 13,
   "metadata": {},
   "outputs": [
    {
     "name": "stdout",
     "output_type": "stream",
     "text": [
      "Successfully skipped redownloading 749564 files\n",
      "Took 0:09:36.084731\n",
      "\n",
      "2020-02-20 12:18:05.967982   10,000 more files backed up\n",
      "2020-02-20 12:53:15.782728   10,000 more files backed up\n",
      "2020-02-20 13:27:10.626536   10,000 more files backed up\n",
      "2020-02-20 14:01:54.887272   10,000 more files backed up\n",
      "2020-02-20 14:36:49.547724   10,000 more files backed up\n",
      "2020-02-20 15:10:34.292753   10,000 more files backed up\n",
      "2020-02-20 15:45:53.241646   10,000 more files backed up\n",
      "2020-02-20 16:23:00.149051   10,000 more files backed up\n",
      "2020-02-20 16:58:23.743838   10,000 more files backed up\n",
      "2020-02-20 17:33:26.897375   10,000 more files backed up\n",
      "2020-02-20 18:08:04.573865   10,000 more files backed up\n",
      "2020-02-20 18:43:08.593497   10,000 more files backed up\n",
      "2020-02-20 19:19:21.961666   10,000 more files backed up\n",
      "2020-02-20 19:55:36.512409   10,000 more files backed up\n",
      "2020-02-20 20:26:59.244057   10,000 more files backed up\n",
      "2020-02-20 20:57:38.842590   10,000 more files backed up\n",
      "2020-02-20 21:29:27.298640   10,000 more files backed up\n",
      "2020-02-20 22:00:58.921229   10,000 more files backed up\n",
      "2020-02-20 22:33:29.672188   10,000 more files backed up\n",
      "2020-02-20 23:03:55.424816   10,000 more files backed up\n",
      "DONE.\n",
      "Took: 11:44:44.264677 total,\n",
      " 11:35:08.179946 to download the rest\n"
     ]
    }
   ],
   "source": [
    "start_time = datetime.now()\n",
    "i = 0\n",
    "count = 0\n",
    "num_already_backed_up = 749564\n",
    "\n",
    "for obj in IMG_BUCKET.objects.all():\n",
    "    if count < num_already_backed_up: \n",
    "        count = count + 1\n",
    "    else:\n",
    "        key = str(obj.key)\n",
    "        copy_source = {'Bucket': ORIGINAL_B_NAME, 'Key': key} #Different from organizer script, we're not changing the key\n",
    "        #print(key)\n",
    "        BKP_BUCKET.copy(copy_source, key)\n",
    "        \n",
    "        #Make it only run for a few so we can check it works- original size = 749565\n",
    "        #if i>1:\n",
    "        #    break\n",
    "        ############################################################################\n",
    "        \n",
    "        i = (i + 1) % 10000\n",
    "        if i == 0:\n",
    "            print(str(datetime.now()) + \"   10,000 more files backed up\")\n",
    "    \n",
    "    if count == num_already_backed_up:\n",
    "        print(\"Successfully skipped redownloading \" + str(num_already_backed_up) + \" files\")\n",
    "        time_to_skip = datetime.now()\n",
    "        print(\"Took \" + str(time_to_skip - start_time) + '\\n')\n",
    "        count = count + 1 #Or else we would keep hitting this block\n",
    "            \n",
    "end_time = datetime.now()\n",
    "print(\"DONE.\")\n",
    "print(\"Took: \" + str(end_time - start_time) + \" total,\\n \" + str(end_time - time_to_skip) + \" to download the rest\")"
   ]
  },
  {
   "cell_type": "code",
   "execution_count": null,
   "metadata": {},
   "outputs": [],
   "source": []
  }
 ],
 "metadata": {
  "kernelspec": {
   "display_name": "Python 3",
   "language": "python",
   "name": "python3"
  },
  "language_info": {
   "codemirror_mode": {
    "name": "ipython",
    "version": 3
   },
   "file_extension": ".py",
   "mimetype": "text/x-python",
   "name": "python",
   "nbconvert_exporter": "python",
   "pygments_lexer": "ipython3",
   "version": "3.7.6"
  }
 },
 "nbformat": 4,
 "nbformat_minor": 4
}
